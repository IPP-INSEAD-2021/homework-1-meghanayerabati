{
 "cells": [
  {
   "cell_type": "markdown",
   "id": "ab5cba0d",
   "metadata": {},
   "source": [
    "## IPP Assignment 1"
   ]
  },
  {
   "cell_type": "markdown",
   "id": "552d87d0",
   "metadata": {},
   "source": [
    "### GRADE (Meghana)\n",
    "\n",
    "**Problem** | *Correctness (5)* | *Clarity (2.5)* | *Efficiency (2.5)*| COMMENT\n",
    "---|---|---|---|---\n",
    "**1** | 5 | 2.5 | 2.5|You could've used other basic markdown\n",
    "**2.1** | 5 | 2.5 | 2.5|\n",
    "**2.2** | 5 | 2.5 | 2.5|\n",
    "**2.3** | 5 | 2.5 | 2.5|\n",
    "**3** | 5 | 2.5 | 2.5|Great. \n",
    "**TOTAL SCORE** | **50/50**"
   ]
  },
  {
   "cell_type": "markdown",
   "id": "526187fc",
   "metadata": {},
   "source": [
    "A Jupyter notebook, a Python interface, mainly consists of two types of cells: Markdown and Code cells. A Code cell is a block of contents that contain snippets of code written in Python Programming Language. A markdown cell is a block of contents that contain text and sometimes image.\n",
    "\n",
    "As you progress, you may realize the importance of markdown cells while programming with python language. Markdown cells allow you to keep track of what you've done in the Code cells by displaying titles or a brief summary of tasks in a text format (You can add headings, emphasis (bold or italic text), mathematical symbols, bullets and horizontal lines etc). This assignment is meant to guide you to become familiar with markdown language.\n",
    "\n"
   ]
  },
  {
   "cell_type": "markdown",
   "id": "2a75928a",
   "metadata": {},
   "source": [
    "### Problem 1. Using markdown language, write an introduction of yourself. You can use multiple markdown cells to create a neat introduction of yourself.\n"
   ]
  },
  {
   "cell_type": "markdown",
   "id": "0123f7d2",
   "metadata": {},
   "source": [
    "Hi, my name is Meghana. I would be joining the Finance Department at INSEAD, Fontainebleau campus. "
   ]
  },
  {
   "cell_type": "markdown",
   "id": "db278f2d",
   "metadata": {},
   "source": [
    "Prior to INSEAD, I worked as a pre-doctoral researcher at Indian School of Business. I have also worked in the financial industry briefly. I am excited to move to a different country for the first time, and continue my research journey with some very capable folk at INSEAD business school. Pleased to meet you all!"
   ]
  },
  {
   "cell_type": "markdown",
   "id": "d91ae9df",
   "metadata": {},
   "source": [
    "A little more about me: In my free time, I indulge in some reading, writing, painting and photography. ('Midnight in Paris', anybody?) I'm happy to know more about the INSEAD community as well :)"
   ]
  },
  {
   "cell_type": "markdown",
   "id": "028bd29c",
   "metadata": {},
   "source": [
    "### Problem 2"
   ]
  },
  {
   "cell_type": "markdown",
   "id": "9ba77ae2",
   "metadata": {},
   "source": [
    "For problem 2, use the following list (called i) & dictionary (called d)\n",
    "* Note that i is a list which contains 9 elements.\n",
    "* Note that d is a dictionary which has 9 keys and values."
   ]
  },
  {
   "cell_type": "code",
   "execution_count": 1,
   "id": "98cbcfd3",
   "metadata": {},
   "outputs": [
    {
     "name": "stdout",
     "output_type": "stream",
     "text": [
      "['I', 'N', 'S', 'E', 'A', 'D', 'P', 'H', 'D']\n",
      "{0: 'I', 1: 'N', 2: 'S', 3: 'E', 4: 'A', 5: 'D', 6: 'P', 7: 'H', 8: 'D'}\n"
     ]
    }
   ],
   "source": [
    "i=['I','N','S','E','A','D','P','H','D']\n",
    "d={}\n",
    "for count, value in enumerate(i):\n",
    "    d[count]=value\n",
    "    \n",
    "print(i)\n",
    "print(d)"
   ]
  },
  {
   "cell_type": "markdown",
   "id": "2eb39834",
   "metadata": {},
   "source": [
    "#### Problem 2.1 Write a for loop that prints the first six elements of the list (i), using both 'IF' and 'BREAK' statments within the loop."
   ]
  },
  {
   "cell_type": "code",
   "execution_count": 2,
   "id": "71f19b4c",
   "metadata": {},
   "outputs": [
    {
     "name": "stdout",
     "output_type": "stream",
     "text": [
      "I\n",
      "N\n",
      "S\n",
      "E\n",
      "A\n",
      "D\n"
     ]
    }
   ],
   "source": [
    "# Write a for loop that produces the following output in this cell.\n",
    "\n",
    "##############################################################################################\n",
    "for k,v in d.items():\n",
    "    #print(k)\n",
    "    if k<6:\n",
    "        print(v)\n",
    "    else:\n",
    "        break\n",
    "##############################################################################################"
   ]
  },
  {
   "cell_type": "code",
   "execution_count": 3,
   "id": "07284b3f",
   "metadata": {},
   "outputs": [],
   "source": [
    "#Expected output"
   ]
  },
  {
   "cell_type": "markdown",
   "id": "5cfd7354",
   "metadata": {},
   "source": [
    "#### Problem 2.2 Write a for loop that prints all the elements except 'D' in the list (i) using if and continue statement within the loop."
   ]
  },
  {
   "cell_type": "code",
   "execution_count": 4,
   "id": "f060d895",
   "metadata": {},
   "outputs": [
    {
     "name": "stdout",
     "output_type": "stream",
     "text": [
      "I\n",
      "N\n",
      "S\n",
      "E\n",
      "A\n",
      "P\n",
      "H\n"
     ]
    }
   ],
   "source": [
    "# Write a for loop that produces the following output in this cell.\n",
    "##############################################################################################\n",
    "for k,v in d.items():\n",
    "    #print(k)\n",
    "    if v!=\"D\":\n",
    "        print(v)\n",
    "    else:\n",
    "        continue\n",
    "##############################################################################################"
   ]
  },
  {
   "cell_type": "code",
   "execution_count": 12,
   "id": "b86b9dfe",
   "metadata": {},
   "outputs": [
    {
     "name": "stdout",
     "output_type": "stream",
     "text": [
      "I\n",
      "N\n",
      "S\n",
      "E\n",
      "A\n",
      "P\n",
      "H\n"
     ]
    }
   ],
   "source": [
    "#Expected output"
   ]
  },
  {
   "cell_type": "markdown",
   "id": "7918d130",
   "metadata": {},
   "source": [
    "#### Problem 2.3 Create an empty list called l. Write a for loop that adds only odd dictionary keys of d in l (l is the emply list that you've created). Then prints l."
   ]
  },
  {
   "cell_type": "code",
   "execution_count": 5,
   "id": "e34d6f4e",
   "metadata": {},
   "outputs": [
    {
     "name": "stdout",
     "output_type": "stream",
     "text": [
      "[1, 3, 5, 7]\n"
     ]
    }
   ],
   "source": [
    "# Write a for loop that produces the following output in this cell.\n",
    "# Start with creating a list called l\n",
    "l=[]\n",
    "##############################################################################################\n",
    "for k,v in d.items():\n",
    "    if k%2==1:\n",
    "        l.append(k)\n",
    "##############################################################################################\n",
    "print(l)"
   ]
  },
  {
   "cell_type": "code",
   "execution_count": 6,
   "id": "b1f4672f",
   "metadata": {},
   "outputs": [],
   "source": [
    "#Expected output"
   ]
  },
  {
   "cell_type": "markdown",
   "id": "d52bbcb2",
   "metadata": {},
   "source": [
    "### Problem 3"
   ]
  },
  {
   "cell_type": "markdown",
   "id": "9def358a",
   "metadata": {},
   "source": [
    "For problem 3, use the following two lists, students and departments respectively"
   ]
  },
  {
   "cell_type": "code",
   "execution_count": 8,
   "id": "d7d94e6f",
   "metadata": {},
   "outputs": [],
   "source": [
    "students=[\"MKT:Sherrie\",\n",
    "          \"OB:Jennifer\",\n",
    "          \"TOM:Priscilla\",\n",
    "          \"STR:Nety\",\n",
    "          \"STR:Tienchang\",\n",
    "          \"ENT:Pulkit\",\n",
    "          \"FIN:Meghana\",\n",
    "          \"STR:Constantin\",\n",
    "          \"ENT:Junghyo\"]\n",
    "\n",
    "departments=[\"MKT\",\"OB\",\"TOM\",\"STR\",\"ENT\",\"FIN\"]"
   ]
  },
  {
   "cell_type": "code",
   "execution_count": 9,
   "id": "2d35ad42",
   "metadata": {},
   "outputs": [
    {
     "data": {
      "text/plain": [
       "['MKT:Sherrie',\n",
       " 'OB:Jennifer',\n",
       " 'TOM:Priscilla',\n",
       " 'STR:Nety',\n",
       " 'STR:Tienchang',\n",
       " 'ENT:Pulkit',\n",
       " 'FIN:Meghana',\n",
       " 'STR:Constantin',\n",
       " 'ENT:Junghyo']"
      ]
     },
     "execution_count": 9,
     "metadata": {},
     "output_type": "execute_result"
    }
   ],
   "source": [
    "students"
   ]
  },
  {
   "cell_type": "markdown",
   "id": "d4462e69",
   "metadata": {},
   "source": [
    "#### Problem 3. Create an empty dictionary called d. Write a for loop that adds each department in departments (given list) as keys and the list of students in that department as values."
   ]
  },
  {
   "cell_type": "code",
   "execution_count": 11,
   "id": "2622558e",
   "metadata": {},
   "outputs": [],
   "source": [
    "d = {department:[] for department in departments}\n"
   ]
  },
  {
   "cell_type": "code",
   "execution_count": 12,
   "id": "279b94a0",
   "metadata": {},
   "outputs": [
    {
     "data": {
      "text/plain": [
       "{'MKT': [], 'OB': [], 'TOM': [], 'STR': [], 'ENT': [], 'FIN': []}"
      ]
     },
     "execution_count": 12,
     "metadata": {},
     "output_type": "execute_result"
    }
   ],
   "source": [
    "d"
   ]
  },
  {
   "cell_type": "code",
   "execution_count": 14,
   "id": "3a4b2cb6",
   "metadata": {},
   "outputs": [
    {
     "data": {
      "text/plain": [
       "{'MKT': ['Sherrie'],\n",
       " 'OB': ['Jennifer'],\n",
       " 'TOM': ['Priscilla'],\n",
       " 'STR': ['Nety', 'Tienchang', 'Constantin'],\n",
       " 'ENT': ['Pulkit', 'Junghyo'],\n",
       " 'FIN': ['Meghana']}"
      ]
     },
     "execution_count": 14,
     "metadata": {},
     "output_type": "execute_result"
    }
   ],
   "source": [
    "# Write a for loop that produces the following output in this cell, using the given lists (students & departments)\n",
    "# Start with creating a dictonary called d\n",
    "d = {department:[] for department in departments}\n",
    "##############################################################################################\n",
    "for student in students:\n",
    "    dept = student.split(':')[0]\n",
    "    d[dept] = d[dept]+[student.split(':')[1]]\n",
    "##############################################################################################\n",
    "d"
   ]
  },
  {
   "cell_type": "code",
   "execution_count": 42,
   "id": "b2313177",
   "metadata": {},
   "outputs": [
    {
     "data": {
      "text/plain": [
       "{'ENT': ['Pulkit', 'Junghyo'],\n",
       " 'FIN': ['Meghana'],\n",
       " 'MKT': ['Sherrie'],\n",
       " 'OB': ['Jennifer'],\n",
       " 'STR': ['Nety', 'Tienchang', 'Constantin'],\n",
       " 'TOM': ['Priscilla']}"
      ]
     },
     "execution_count": 42,
     "metadata": {},
     "output_type": "execute_result"
    }
   ],
   "source": [
    "# Write a for loop that produces the following output in this cell, using the given lists (students & departments)\n",
    "# Start with creating a dictonary called d\n",
    "d = {department:[] for department in departments}\n",
    "##############################################################################################\n",
    "for student in students:\n",
    "    dept = student.split(':')[0]\n",
    "    d[dept] = d[dept]+[student.split(':')[1]]\n",
    "##############################################################################################\n",
    "d"
   ]
  },
  {
   "cell_type": "code",
   "execution_count": 115,
   "id": "22299736",
   "metadata": {},
   "outputs": [
    {
     "data": {
      "text/plain": [
       "{'MKT': ['Sherrie'],\n",
       " 'OB': ['Jennifer'],\n",
       " 'TOM': ['Priscilla'],\n",
       " 'STR': ['Nety', 'Tienchang', 'Constantin'],\n",
       " 'ENT': ['Pulkit', 'Junghyo'],\n",
       " 'FIN': ['Meghana']}"
      ]
     },
     "execution_count": 115,
     "metadata": {},
     "output_type": "execute_result"
    }
   ],
   "source": [
    "#Expected Output"
   ]
  }
 ],
 "metadata": {
  "kernelspec": {
   "display_name": "Python 3",
   "language": "python",
   "name": "python3"
  },
  "language_info": {
   "codemirror_mode": {
    "name": "ipython",
    "version": 3
   },
   "file_extension": ".py",
   "mimetype": "text/x-python",
   "name": "python",
   "nbconvert_exporter": "python",
   "pygments_lexer": "ipython3",
   "version": "3.8.8"
  }
 },
 "nbformat": 4,
 "nbformat_minor": 5
}
